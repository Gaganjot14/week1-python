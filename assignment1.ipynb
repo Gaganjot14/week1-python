{
 "cells": [
  {
   "cell_type": "code",
   "execution_count": null,
   "id": "bc2a4976-27d1-443b-a4cb-bcc8204c8abf",
   "metadata": {},
   "outputs": [],
   "source": [
    "#question 1\n",
    "(i)string:\n",
    "    s='gagan'\n",
    "(ii) List:\n",
    "    l=[1,2,2.363,'gagan','pwskills',[1,2,34],True,False]\n",
    "(iii) float:\n",
    "    2.2344\n",
    "(iv) tuple:\n",
    "    (1,2,3,'alakh sir','pwskills')"
   ]
  },
  {
   "cell_type": "code",
   "execution_count": null,
   "id": "b824c183-e0a0-49a9-871a-e40bb9fbbaa0",
   "metadata": {},
   "outputs": [],
   "source": [
    "#question 2\n",
    "(i)var1=''"
   ]
  },
  {
   "cell_type": "code",
   "execution_count": 1,
   "id": "08587400-8f9e-4618-b9c3-c68c61d4b905",
   "metadata": {},
   "outputs": [],
   "source": [
    "var1=''"
   ]
  },
  {
   "cell_type": "code",
   "execution_count": 2,
   "id": "0e999c4c-ce1c-4090-a457-b069b482a047",
   "metadata": {},
   "outputs": [
    {
     "data": {
      "text/plain": [
       "str"
      ]
     },
     "execution_count": 2,
     "metadata": {},
     "output_type": "execute_result"
    }
   ],
   "source": [
    "type(var1)"
   ]
  },
  {
   "cell_type": "code",
   "execution_count": null,
   "id": "acd7b723-0f6c-4621-854e-2e790220ed76",
   "metadata": {},
   "outputs": [],
   "source": [
    "(ii)var2='[DS,ML,Python]"
   ]
  },
  {
   "cell_type": "code",
   "execution_count": 3,
   "id": "d08ce718-b2a8-414b-a3bd-a4fddcc563d0",
   "metadata": {},
   "outputs": [],
   "source": [
    "var2='[DS,ML,Python]'"
   ]
  },
  {
   "cell_type": "code",
   "execution_count": 4,
   "id": "28d25c5f-13f1-45a9-9ab1-dedb58235cd2",
   "metadata": {},
   "outputs": [
    {
     "data": {
      "text/plain": [
       "str"
      ]
     },
     "execution_count": 4,
     "metadata": {},
     "output_type": "execute_result"
    }
   ],
   "source": [
    "type(var2)"
   ]
  },
  {
   "cell_type": "code",
   "execution_count": null,
   "id": "286f9d18-e363-4d5e-bf80-113677df7c63",
   "metadata": {},
   "outputs": [],
   "source": [
    "(iii)var3=['DS','ML','Python']"
   ]
  },
  {
   "cell_type": "code",
   "execution_count": 5,
   "id": "eea18da3-5bf4-4ad8-974c-37eeda00056f",
   "metadata": {},
   "outputs": [],
   "source": [
    "var3=['DS','ML','Python']"
   ]
  },
  {
   "cell_type": "code",
   "execution_count": 6,
   "id": "03828d4b-1e30-4a28-95bb-7c1496b217cf",
   "metadata": {},
   "outputs": [
    {
     "data": {
      "text/plain": [
       "list"
      ]
     },
     "execution_count": 6,
     "metadata": {},
     "output_type": "execute_result"
    }
   ],
   "source": [
    "type(var3)"
   ]
  },
  {
   "cell_type": "code",
   "execution_count": null,
   "id": "1d69bc74-18f7-41cb-810c-506fb149d173",
   "metadata": {},
   "outputs": [],
   "source": [
    "(iv)var4=1"
   ]
  },
  {
   "cell_type": "code",
   "execution_count": 7,
   "id": "3bbce568-c76e-4c1f-9561-359695e1017c",
   "metadata": {},
   "outputs": [],
   "source": [
    "var4=1"
   ]
  },
  {
   "cell_type": "code",
   "execution_count": 8,
   "id": "49e6bdae-ca44-445d-a047-5abf47b92919",
   "metadata": {},
   "outputs": [
    {
     "data": {
      "text/plain": [
       "int"
      ]
     },
     "execution_count": 8,
     "metadata": {},
     "output_type": "execute_result"
    }
   ],
   "source": [
    "type(var4)"
   ]
  },
  {
   "cell_type": "code",
   "execution_count": null,
   "id": "0211e30f-d1da-415c-8f8f-21a1a27dbf8f",
   "metadata": {},
   "outputs": [],
   "source": [
    "#question3\n",
    "(i)/\n",
    "performs division\n",
    "example: "
   ]
  },
  {
   "cell_type": "code",
   "execution_count": 13,
   "id": "e88ccfc5-baa8-47e6-a1e8-6633e5c55391",
   "metadata": {},
   "outputs": [],
   "source": [
    "a=4\n",
    "b=2\n",
    "c=a/b"
   ]
  },
  {
   "cell_type": "code",
   "execution_count": 14,
   "id": "f5f1a13c-6ad6-4eb2-a87b-b6ac843cb7f5",
   "metadata": {},
   "outputs": [
    {
     "data": {
      "text/plain": [
       "2.0"
      ]
     },
     "execution_count": 14,
     "metadata": {},
     "output_type": "execute_result"
    }
   ],
   "source": [
    "c"
   ]
  },
  {
   "cell_type": "code",
   "execution_count": null,
   "id": "f1e929e4-c73f-46d7-9cd5-24eb042b571c",
   "metadata": {},
   "outputs": [],
   "source": [
    "(ii)%"
   ]
  },
  {
   "cell_type": "code",
   "execution_count": null,
   "id": "fcd53d31-08b6-4ce1-858f-9701d020fd2a",
   "metadata": {},
   "outputs": [],
   "source": [
    "performs division but gives reminder as result"
   ]
  },
  {
   "cell_type": "code",
   "execution_count": 15,
   "id": "3d0a920f-e53f-4fcc-a42f-a3910f085831",
   "metadata": {},
   "outputs": [],
   "source": [
    "a=10\n",
    "b=2\n",
    "c=a%b"
   ]
  },
  {
   "cell_type": "code",
   "execution_count": 16,
   "id": "81a2eec7-649c-430f-ab6f-98bf88b06ec5",
   "metadata": {},
   "outputs": [
    {
     "data": {
      "text/plain": [
       "0"
      ]
     },
     "execution_count": 16,
     "metadata": {},
     "output_type": "execute_result"
    }
   ],
   "source": [
    "c"
   ]
  },
  {
   "cell_type": "code",
   "execution_count": 17,
   "id": "4e73113a-7a40-4cc9-a5b3-0451c0d3bf51",
   "metadata": {},
   "outputs": [],
   "source": [
    "a=15\n",
    "b=2\n",
    "c=a%b"
   ]
  },
  {
   "cell_type": "code",
   "execution_count": 18,
   "id": "d3eb9a39-d40a-4a6e-bf79-968dbd75b6d3",
   "metadata": {},
   "outputs": [
    {
     "data": {
      "text/plain": [
       "1"
      ]
     },
     "execution_count": 18,
     "metadata": {},
     "output_type": "execute_result"
    }
   ],
   "source": [
    "c"
   ]
  },
  {
   "cell_type": "code",
   "execution_count": null,
   "id": "c8044024-67ec-46f5-8566-6615d33e5607",
   "metadata": {},
   "outputs": [],
   "source": [
    "(iii)//\n",
    "performs division but gives quotient as result after removing decimal points"
   ]
  },
  {
   "cell_type": "code",
   "execution_count": 19,
   "id": "222b122a-fe3e-49cb-bd3f-b37e64de01b5",
   "metadata": {},
   "outputs": [],
   "source": [
    "a=15\n",
    "b=2\n",
    "c=a//b"
   ]
  },
  {
   "cell_type": "code",
   "execution_count": 20,
   "id": "4b56c538-b07d-412f-a04c-711e4811c246",
   "metadata": {},
   "outputs": [
    {
     "data": {
      "text/plain": [
       "7"
      ]
     },
     "execution_count": 20,
     "metadata": {},
     "output_type": "execute_result"
    }
   ],
   "source": [
    "c"
   ]
  },
  {
   "cell_type": "code",
   "execution_count": null,
   "id": "62eaf281-36df-4137-ad16-e0d7a386860d",
   "metadata": {},
   "outputs": [],
   "source": [
    "(iv)**\n",
    "it is multiplication to power raised"
   ]
  },
  {
   "cell_type": "code",
   "execution_count": 23,
   "id": "e685d0f1-19a7-4daa-adb2-ec527bfcf334",
   "metadata": {},
   "outputs": [],
   "source": [
    "a=10\n",
    "b=2\n",
    "c=a**b"
   ]
  },
  {
   "cell_type": "code",
   "execution_count": 24,
   "id": "3a66b596-621c-41b0-84ea-783654c72953",
   "metadata": {},
   "outputs": [
    {
     "data": {
      "text/plain": [
       "100"
      ]
     },
     "execution_count": 24,
     "metadata": {},
     "output_type": "execute_result"
    }
   ],
   "source": [
    "c"
   ]
  },
  {
   "cell_type": "code",
   "execution_count": 25,
   "id": "ed08782b-7f81-4d62-b96f-84fe83351502",
   "metadata": {},
   "outputs": [],
   "source": [
    "#question 4"
   ]
  },
  {
   "cell_type": "code",
   "execution_count": 37,
   "id": "24a1a7d8-174c-40a1-8294-93e2185a969e",
   "metadata": {},
   "outputs": [
    {
     "name": "stdout",
     "output_type": "stream",
     "text": [
      "1\n",
      "<class 'int'>\n",
      "2\n",
      "<class 'int'>\n",
      "pwskills\n",
      "<class 'str'>\n",
      "2.34\n",
      "<class 'float'>\n",
      "[1, 2, 34]\n",
      "<class 'list'>\n",
      "2334\n",
      "<class 'int'>\n",
      "gagan\n",
      "<class 'str'>\n",
      "week one\n",
      "<class 'str'>\n",
      "True\n",
      "<class 'bool'>\n",
      "False\n",
      "<class 'bool'>\n"
     ]
    }
   ],
   "source": [
    "l=[1,2,'pwskills',2.34,[1,2,34],2334,'gagan','week one',True,False]\n",
    "for i in l:\n",
    "    print(i)\n",
    "    print(type(i))"
   ]
  },
  {
   "cell_type": "code",
   "execution_count": 43,
   "id": "8f0da11a-c42d-4a50-aa69-5698f17f6fa0",
   "metadata": {},
   "outputs": [
    {
     "name": "stdin",
     "output_type": "stream",
     "text": [
      "enter the number A: 10\n",
      "enter the number B: 5\n"
     ]
    },
    {
     "name": "stdout",
     "output_type": "stream",
     "text": [
      "A can be divided by B count times\n"
     ]
    }
   ],
   "source": [
    "#question 5\n",
    "A= int(input('enter the number A:'))\n",
    "B= int(input('enter the number B:'))\n",
    "\n",
    "count=0\n",
    "while A % B ==0:\n",
    "    count+=1\n",
    "    A=A/B\n",
    "if count>0:\n",
    "    print('A can be divided by B count times')\n",
    "    \n",
    "else:\n",
    "    print('A is not purely divisible by B')\n"
   ]
  },
  {
   "cell_type": "code",
   "execution_count": 57,
   "id": "7f75ae8e-8855-4c6f-a8a4-b1e6ca570b36",
   "metadata": {},
   "outputs": [
    {
     "name": "stdout",
     "output_type": "stream",
     "text": [
      "1\n",
      " number is not divisible by 3\n",
      "2\n",
      " number is not divisible by 3\n",
      "3\n",
      "number is divisible by 3\n",
      "4\n",
      " number is not divisible by 3\n",
      "5\n",
      " number is not divisible by 3\n",
      "6\n",
      "number is divisible by 3\n",
      "7\n",
      " number is not divisible by 3\n",
      "8\n",
      " number is not divisible by 3\n",
      "9\n",
      "number is divisible by 3\n",
      "10\n",
      " number is not divisible by 3\n",
      "11\n",
      " number is not divisible by 3\n",
      "12\n",
      "number is divisible by 3\n",
      "13\n",
      " number is not divisible by 3\n",
      "14\n",
      " number is not divisible by 3\n",
      "15\n",
      "number is divisible by 3\n",
      "16\n",
      " number is not divisible by 3\n",
      "17\n",
      " number is not divisible by 3\n",
      "18\n",
      "number is divisible by 3\n",
      "19\n",
      " number is not divisible by 3\n",
      "20\n",
      " number is not divisible by 3\n",
      "21\n",
      "number is divisible by 3\n",
      "22\n",
      " number is not divisible by 3\n",
      "23\n",
      " number is not divisible by 3\n",
      "24\n",
      "number is divisible by 3\n",
      "25\n",
      " number is not divisible by 3\n"
     ]
    }
   ],
   "source": [
    "#question 6\n",
    "l=range(1,26)\n",
    "for i in l:\n",
    "    if i % 3==0:\n",
    "        print(i)\n",
    "        print( 'number is divisible by 3')\n",
    "    if i% 3!=0:\n",
    "        print(i)\n",
    "        print (' number is not divisible by 3')\n"
   ]
  },
  {
   "cell_type": "code",
   "execution_count": null,
   "id": "d3cef3bf-702b-4ad2-a339-68c7ad64bfc9",
   "metadata": {},
   "outputs": [],
   "source": [
    "#question7\n"
   ]
  },
  {
   "cell_type": "code",
   "execution_count": 58,
   "id": "49bc4c2c-c70a-48f5-b8a2-e74dcea01788",
   "metadata": {},
   "outputs": [],
   "source": [
    "s='sudhanshu'"
   ]
  },
  {
   "cell_type": "code",
   "execution_count": 60,
   "id": "f4b08eb0-0520-4b51-97e9-eb806d30094f",
   "metadata": {},
   "outputs": [
    {
     "data": {
      "text/plain": [
       "'h'"
      ]
     },
     "execution_count": 60,
     "metadata": {},
     "output_type": "execute_result"
    }
   ],
   "source": [
    "s[3]"
   ]
  },
  {
   "cell_type": "code",
   "execution_count": 62,
   "id": "461929c1-5be5-4f0b-9c55-ac1e16076b36",
   "metadata": {},
   "outputs": [
    {
     "ename": "TypeError",
     "evalue": "'str' object does not support item assignment",
     "output_type": "error",
     "traceback": [
      "\u001b[0;31m---------------------------------------------------------------------------\u001b[0m",
      "\u001b[0;31mTypeError\u001b[0m                                 Traceback (most recent call last)",
      "Cell \u001b[0;32mIn[62], line 1\u001b[0m\n\u001b[0;32m----> 1\u001b[0m \u001b[43ms\u001b[49m\u001b[43m[\u001b[49m\u001b[38;5;241;43m3\u001b[39;49m\u001b[43m]\u001b[49m\u001b[38;5;241m=\u001b[39ma\n",
      "\u001b[0;31mTypeError\u001b[0m: 'str' object does not support item assignment"
     ]
    }
   ],
   "source": [
    "s[3]=a"
   ]
  },
  {
   "cell_type": "code",
   "execution_count": 63,
   "id": "6547990d-b638-4640-8ed7-ed4a6169b4e0",
   "metadata": {},
   "outputs": [],
   "source": [
    "l=[1,2,3.45,'gagan',3+5j,33,900]"
   ]
  },
  {
   "cell_type": "code",
   "execution_count": 65,
   "id": "39cab759-6bce-4e27-9484-d73460e270d1",
   "metadata": {},
   "outputs": [],
   "source": [
    "l[2]='pwskills'"
   ]
  },
  {
   "cell_type": "code",
   "execution_count": 66,
   "id": "4d9fe7c3-fd3e-436d-b35f-4a1c753c9920",
   "metadata": {},
   "outputs": [
    {
     "data": {
      "text/plain": [
       "[1, 2, 'pwskills', 'gagan', (3+5j), 33, 900]"
      ]
     },
     "execution_count": 66,
     "metadata": {},
     "output_type": "execute_result"
    }
   ],
   "source": [
    "l"
   ]
  },
  {
   "cell_type": "code",
   "execution_count": null,
   "id": "28c8a255-b270-4ff6-b6d3-9f241c764372",
   "metadata": {},
   "outputs": [],
   "source": [
    "#mutable data type are those which does "
   ]
  }
 ],
 "metadata": {
  "kernelspec": {
   "display_name": "Python 3 (ipykernel)",
   "language": "python",
   "name": "python3"
  },
  "language_info": {
   "codemirror_mode": {
    "name": "ipython",
    "version": 3
   },
   "file_extension": ".py",
   "mimetype": "text/x-python",
   "name": "python",
   "nbconvert_exporter": "python",
   "pygments_lexer": "ipython3",
   "version": "3.10.8"
  }
 },
 "nbformat": 4,
 "nbformat_minor": 5
}
